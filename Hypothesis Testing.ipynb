{
 "cells": [
  {
   "cell_type": "code",
   "execution_count": 1,
   "id": "3287d30e",
   "metadata": {},
   "outputs": [],
   "source": [
    "import pandas as pd\n",
    "import numpy as np\n",
    "import matplotlib.pyplot as plt\n",
    "import seaborn as sns\n",
    "import scipy.stats as stats"
   ]
  },
  {
   "cell_type": "code",
   "execution_count": 2,
   "id": "0a2ea095",
   "metadata": {},
   "outputs": [],
   "source": [
    "df = pd.read_csv('Data/insurance - insurance.csv')"
   ]
  },
  {
   "cell_type": "code",
   "execution_count": 3,
   "id": "bdd1259f",
   "metadata": {},
   "outputs": [
    {
     "data": {
      "text/html": [
       "<div>\n",
       "<style scoped>\n",
       "    .dataframe tbody tr th:only-of-type {\n",
       "        vertical-align: middle;\n",
       "    }\n",
       "\n",
       "    .dataframe tbody tr th {\n",
       "        vertical-align: top;\n",
       "    }\n",
       "\n",
       "    .dataframe thead th {\n",
       "        text-align: right;\n",
       "    }\n",
       "</style>\n",
       "<table border=\"1\" class=\"dataframe\">\n",
       "  <thead>\n",
       "    <tr style=\"text-align: right;\">\n",
       "      <th></th>\n",
       "      <th>age</th>\n",
       "      <th>sex</th>\n",
       "      <th>bmi</th>\n",
       "      <th>children</th>\n",
       "      <th>smoker</th>\n",
       "      <th>region</th>\n",
       "      <th>charges</th>\n",
       "    </tr>\n",
       "  </thead>\n",
       "  <tbody>\n",
       "    <tr>\n",
       "      <th>0</th>\n",
       "      <td>19</td>\n",
       "      <td>female</td>\n",
       "      <td>27.900</td>\n",
       "      <td>0</td>\n",
       "      <td>yes</td>\n",
       "      <td>southwest</td>\n",
       "      <td>16884.92400</td>\n",
       "    </tr>\n",
       "    <tr>\n",
       "      <th>1</th>\n",
       "      <td>18</td>\n",
       "      <td>male</td>\n",
       "      <td>33.770</td>\n",
       "      <td>1</td>\n",
       "      <td>no</td>\n",
       "      <td>southeast</td>\n",
       "      <td>1725.55230</td>\n",
       "    </tr>\n",
       "    <tr>\n",
       "      <th>2</th>\n",
       "      <td>28</td>\n",
       "      <td>male</td>\n",
       "      <td>33.000</td>\n",
       "      <td>3</td>\n",
       "      <td>no</td>\n",
       "      <td>southeast</td>\n",
       "      <td>4449.46200</td>\n",
       "    </tr>\n",
       "    <tr>\n",
       "      <th>3</th>\n",
       "      <td>33</td>\n",
       "      <td>male</td>\n",
       "      <td>22.705</td>\n",
       "      <td>0</td>\n",
       "      <td>no</td>\n",
       "      <td>northwest</td>\n",
       "      <td>21984.47061</td>\n",
       "    </tr>\n",
       "    <tr>\n",
       "      <th>4</th>\n",
       "      <td>32</td>\n",
       "      <td>male</td>\n",
       "      <td>28.880</td>\n",
       "      <td>0</td>\n",
       "      <td>no</td>\n",
       "      <td>northwest</td>\n",
       "      <td>3866.85520</td>\n",
       "    </tr>\n",
       "  </tbody>\n",
       "</table>\n",
       "</div>"
      ],
      "text/plain": [
       "   age     sex     bmi  children smoker     region      charges\n",
       "0   19  female  27.900         0    yes  southwest  16884.92400\n",
       "1   18    male  33.770         1     no  southeast   1725.55230\n",
       "2   28    male  33.000         3     no  southeast   4449.46200\n",
       "3   33    male  22.705         0     no  northwest  21984.47061\n",
       "4   32    male  28.880         0     no  northwest   3866.85520"
      ]
     },
     "execution_count": 3,
     "metadata": {},
     "output_type": "execute_result"
    }
   ],
   "source": [
    "df.head()"
   ]
  },
  {
   "cell_type": "markdown",
   "id": "7aaa605e",
   "metadata": {},
   "source": [
    "# Question 1"
   ]
  },
  {
   "cell_type": "markdown",
   "id": "7ef5f05b",
   "metadata": {},
   "source": [
    "Null Hypothesis: Smokers and non-smokers have the same insurance charges.\\\n",
    "Alternative Hypothesis: Smokers have higher insurance charges than non-smokers.\\\n",
    "This question calls for a 2 Sample T-Test."
   ]
  },
  {
   "cell_type": "code",
   "execution_count": 4,
   "id": "f548c429",
   "metadata": {},
   "outputs": [
    {
     "data": {
      "text/plain": [
       "no     1064\n",
       "yes     274\n",
       "Name: smoker, dtype: int64"
      ]
     },
     "execution_count": 4,
     "metadata": {},
     "output_type": "execute_result"
    }
   ],
   "source": [
    "df['smoker'].value_counts()"
   ]
  },
  {
   "cell_type": "code",
   "execution_count": 5,
   "id": "97999efc",
   "metadata": {},
   "outputs": [],
   "source": [
    "smokers = df.loc[df['smoker']== 'no'].copy()\n",
    "non_smokers = df.loc[df['smoker']== 'yes'].copy()"
   ]
  },
  {
   "cell_type": "code",
   "execution_count": 6,
   "id": "575e059d",
   "metadata": {},
   "outputs": [],
   "source": [
    "smokers_charges = smokers['charges']\n",
    "non_smokers_charges = non_smokers['charges']"
   ]
  },
  {
   "cell_type": "code",
   "execution_count": 7,
   "id": "9ec26aa2",
   "metadata": {},
   "outputs": [
    {
     "data": {
      "text/plain": [
       "24"
      ]
     },
     "execution_count": 7,
     "metadata": {},
     "output_type": "execute_result"
    }
   ],
   "source": [
    "# Check for outliers in charges for smoker group\n",
    "zscores= stats.zscore(smokers_charges)\n",
    "outliers = abs(zscores)>3\n",
    "np.sum(outliers)"
   ]
  },
  {
   "cell_type": "code",
   "execution_count": 8,
   "id": "ab676669",
   "metadata": {},
   "outputs": [],
   "source": [
    "# remove outliers from smoker group\n",
    "smokers_charges = smokers_charges[(np.abs(stats.zscore(smokers_charges)) < 3)]"
   ]
  },
  {
   "cell_type": "code",
   "execution_count": 9,
   "id": "e8221646",
   "metadata": {},
   "outputs": [
    {
     "data": {
      "text/plain": [
       "19"
      ]
     },
     "execution_count": 9,
     "metadata": {},
     "output_type": "execute_result"
    }
   ],
   "source": [
    "# Check for outliers in charges for non-smoker group\n",
    "zscores= stats.zscore(smokers_charges)\n",
    "outliers = abs(zscores)>3\n",
    "np.sum(outliers)"
   ]
  },
  {
   "cell_type": "code",
   "execution_count": 10,
   "id": "ba885327",
   "metadata": {},
   "outputs": [],
   "source": [
    "# remove outliers from non_smoker group\n",
    "non_smokers_charges = non_smokers_charges[(np.abs(stats.zscore(non_smokers_charges)) < 3)]"
   ]
  },
  {
   "cell_type": "code",
   "execution_count": 11,
   "id": "400e8e07",
   "metadata": {},
   "outputs": [
    {
     "data": {
      "text/plain": [
       "NormaltestResult(statistic=163.80367047789198, pvalue=2.6945416315543976e-36)"
      ]
     },
     "execution_count": 11,
     "metadata": {},
     "output_type": "execute_result"
    }
   ],
   "source": [
    "# test the strength group for normality\n",
    "result_smokers_charges = stats.normaltest(smokers_charges)\n",
    "result_smokers_charges"
   ]
  },
  {
   "cell_type": "code",
   "execution_count": 12,
   "id": "1437f4c4",
   "metadata": {},
   "outputs": [
    {
     "data": {
      "text/plain": [
       "NormaltestResult(statistic=61.03941356533816, pvalue=5.564930630036463e-14)"
      ]
     },
     "execution_count": 12,
     "metadata": {},
     "output_type": "execute_result"
    }
   ],
   "source": [
    "result_non_smokers_charges = stats.normaltest(non_smokers_charges)\n",
    "result_non_smokers_charges"
   ]
  },
  {
   "cell_type": "code",
   "execution_count": 13,
   "id": "7f235e6b",
   "metadata": {},
   "outputs": [
    {
     "data": {
      "text/plain": [
       "LeveneResult(statistic=520.7468821724297, pvalue=2.4247238784347824e-97)"
      ]
     },
     "execution_count": 13,
     "metadata": {},
     "output_type": "execute_result"
    }
   ],
   "source": [
    "# Test for equal variance\n",
    "result = stats.levene(smokers_charges, non_smokers_charges)\n",
    "result"
   ]
  },
  {
   "cell_type": "code",
   "execution_count": 14,
   "id": "efb8c60a",
   "metadata": {},
   "outputs": [
    {
     "data": {
      "text/plain": [
       "Ttest_indResult(statistic=-33.732305987092516, pvalue=2.575322662587431e-104)"
      ]
     },
     "execution_count": 14,
     "metadata": {},
     "output_type": "execute_result"
    }
   ],
   "source": [
    "# Independent t-test with equal_var set to False\n",
    "result = stats.ttest_ind(smokers_charges, non_smokers_charges, equal_var = False)\n",
    "result"
   ]
  },
  {
   "cell_type": "markdown",
   "id": "77cfb1cf",
   "metadata": {},
   "source": [
    "The p-value is well below 0.05 so we can reject the null hypothesis. Smokers have higher insurance charges than non-smokers."
   ]
  },
  {
   "cell_type": "code",
   "execution_count": 15,
   "id": "0325a1c2",
   "metadata": {},
   "outputs": [
    {
     "data": {
      "image/png": "[encoded data removed]",
      "text/plain": [
       "<Figure size 640x480 with 1 Axes>"
      ]
     },
     "metadata": {},
     "output_type": "display_data"
    }
   ],
   "source": [
    "ax = sns.barplot(data=df, x='smoker',y='charges',)\n",
    "ax.set_title(\"Charges by Smoking Status\");"
   ]
  },
  {
   "cell_type": "markdown",
   "id": "e1614a18",
   "metadata": {},
   "source": [
    "# Question 2"
   ]
  },
  {
   "cell_type": "markdown",
   "id": "b2c45fbf",
   "metadata": {},
   "source": [
    "Null Hypothesis: Men and women smoke the same amount.\\\n",
    "Alternative Hypothesis: Men smoke more than women.\\\n",
    "This question calls for a Chi-Square Test."
   ]
  },
  {
   "cell_type": "code",
   "execution_count": 16,
   "id": "a11fd5eb",
   "metadata": {},
   "outputs": [
    {
     "data": {
      "text/html": [
       "<div>\n",
       "<style scoped>\n",
       "    .dataframe tbody tr th:only-of-type {\n",
       "        vertical-align: middle;\n",
       "    }\n",
       "\n",
       "    .dataframe tbody tr th {\n",
       "        vertical-align: top;\n",
       "    }\n",
       "\n",
       "    .dataframe thead th {\n",
       "        text-align: right;\n",
       "    }\n",
       "</style>\n",
       "<table border=\"1\" class=\"dataframe\">\n",
       "  <thead>\n",
       "    <tr style=\"text-align: right;\">\n",
       "      <th>smoker</th>\n",
       "      <th>no</th>\n",
       "      <th>yes</th>\n",
       "    </tr>\n",
       "    <tr>\n",
       "      <th>sex</th>\n",
       "      <th></th>\n",
       "      <th></th>\n",
       "    </tr>\n",
       "  </thead>\n",
       "  <tbody>\n",
       "    <tr>\n",
       "      <th>female</th>\n",
       "      <td>547</td>\n",
       "      <td>115</td>\n",
       "    </tr>\n",
       "    <tr>\n",
       "      <th>male</th>\n",
       "      <td>517</td>\n",
       "      <td>159</td>\n",
       "    </tr>\n",
       "  </tbody>\n",
       "</table>\n",
       "</div>"
      ],
      "text/plain": [
       "smoker   no  yes\n",
       "sex             \n",
       "female  547  115\n",
       "male    517  159"
      ]
     },
     "execution_count": 16,
     "metadata": {},
     "output_type": "execute_result"
    }
   ],
   "source": [
    "# calculate the contingency table with pd.cross-tab\n",
    "table = pd.crosstab(df['sex'], df['smoker'])\n",
    "table"
   ]
  },
  {
   "cell_type": "code",
   "execution_count": 17,
   "id": "de6f4e12",
   "metadata": {},
   "outputs": [],
   "source": [
    "# Run the Test and Save the Output\n",
    "result = stats.chi2_contingency(table)\n",
    "chi2, p, deg_free, expected_vals = result #this labels the results"
   ]
  },
  {
   "cell_type": "code",
   "execution_count": 18,
   "id": "08c02a02",
   "metadata": {},
   "outputs": [
    {
     "name": "stdout",
     "output_type": "stream",
     "text": [
      "0.006548143503580696\n"
     ]
    },
    {
     "data": {
      "text/plain": [
       "True"
      ]
     },
     "execution_count": 18,
     "metadata": {},
     "output_type": "execute_result"
    }
   ],
   "source": [
    "# What was our p-value?\n",
    "print(p)\n",
    "p<.05"
   ]
  },
  {
   "cell_type": "markdown",
   "id": "978b855a",
   "metadata": {},
   "source": [
    "The p-value is far less than  0.05, so we can reject the null hypothesis. Sex does seem to have some effect on whether or not someone smokes."
   ]
  },
  {
   "cell_type": "code",
   "execution_count": 19,
   "id": "22076825",
   "metadata": {},
   "outputs": [
    {
     "data": {
      "image/png": "[encoded data removed]",
      "text/plain": [
       "<Figure size 640x480 with 1 Axes>"
      ]
     },
     "metadata": {},
     "output_type": "display_data"
    }
   ],
   "source": [
    "ax = sns.countplot(data=df, x='sex',hue='smoker',)\n",
    "ax.set_title(\"Number of Smokers by Sex\");"
   ]
  },
  {
   "cell_type": "markdown",
   "id": "0f4501fb",
   "metadata": {},
   "source": [
    "# Question 3"
   ]
  },
  {
   "cell_type": "markdown",
   "id": "22d306b9",
   "metadata": {},
   "source": [
    "Null Hypothesis: Different regions have the same charges.\\\n",
    "Alternative Hypothesis: Different regions have different charges.\\\n",
    "This question calls for an ANOVA and/or Tukey Test"
   ]
  },
  {
   "cell_type": "code",
   "execution_count": 20,
   "id": "961600ea",
   "metadata": {},
   "outputs": [
    {
     "data": {
      "text/plain": [
       "dict_keys(['southwest', 'southeast', 'northwest', 'northeast'])"
      ]
     },
     "execution_count": 20,
     "metadata": {},
     "output_type": "execute_result"
    }
   ],
   "source": [
    "groups = {}\n",
    "## Loop through all unique categories\n",
    "for i in df['region'].unique():\n",
    "    ## Get series for group and rename\n",
    "    data = df.loc[df['region']==i,'charges'].copy()\n",
    "    \n",
    "    # save into the dictionary\n",
    "    groups[i] = data\n",
    "groups.keys()"
   ]
  },
  {
   "cell_type": "code",
   "execution_count": 21,
   "id": "821ffda5",
   "metadata": {},
   "outputs": [
    {
     "data": {
      "text/html": [
       "<div>\n",
       "<style scoped>\n",
       "    .dataframe tbody tr th:only-of-type {\n",
       "        vertical-align: middle;\n",
       "    }\n",
       "\n",
       "    .dataframe tbody tr th {\n",
       "        vertical-align: top;\n",
       "    }\n",
       "\n",
       "    .dataframe thead th {\n",
       "        text-align: right;\n",
       "    }\n",
       "</style>\n",
       "<table border=\"1\" class=\"dataframe\">\n",
       "  <thead>\n",
       "    <tr style=\"text-align: right;\">\n",
       "      <th></th>\n",
       "      <th>n</th>\n",
       "      <th>p</th>\n",
       "      <th>test stat</th>\n",
       "    </tr>\n",
       "  </thead>\n",
       "  <tbody>\n",
       "    <tr>\n",
       "      <th>southwest</th>\n",
       "      <td>325.0</td>\n",
       "      <td>6.125298e-23</td>\n",
       "      <td>102.294059</td>\n",
       "    </tr>\n",
       "    <tr>\n",
       "      <th>southeast</th>\n",
       "      <td>364.0</td>\n",
       "      <td>4.953297e-15</td>\n",
       "      <td>65.877446</td>\n",
       "    </tr>\n",
       "    <tr>\n",
       "      <th>northwest</th>\n",
       "      <td>325.0</td>\n",
       "      <td>5.184209e-24</td>\n",
       "      <td>107.232850</td>\n",
       "    </tr>\n",
       "    <tr>\n",
       "      <th>northeast</th>\n",
       "      <td>324.0</td>\n",
       "      <td>1.455431e-19</td>\n",
       "      <td>86.747629</td>\n",
       "    </tr>\n",
       "  </tbody>\n",
       "</table>\n",
       "</div>"
      ],
      "text/plain": [
       "               n             p   test stat\n",
       "southwest  325.0  6.125298e-23  102.294059\n",
       "southeast  364.0  4.953297e-15   65.877446\n",
       "northwest  325.0  5.184209e-24  107.232850\n",
       "northeast  324.0  1.455431e-19   86.747629"
      ]
     },
     "execution_count": 21,
     "metadata": {},
     "output_type": "execute_result"
    }
   ],
   "source": [
    "## Running normal test on each group and confirming there are >20 in each group\n",
    "norm_results = {}\n",
    "for i, data in groups.items():\n",
    "    stat, p = stats.normaltest(data)\n",
    "    ## save the p val, test statistic, and the size of the group\n",
    "    norm_results[i] = {'n': len(data),\n",
    "                             'p':p,\n",
    "                             'test stat':stat,}\n",
    "## convert to a dataframe\n",
    "norm_results_df = pd.DataFrame(norm_results).T\n",
    "norm_results_df"
   ]
  },
  {
   "cell_type": "code",
   "execution_count": 22,
   "id": "0a0339a5",
   "metadata": {},
   "outputs": [
    {
     "data": {
      "text/html": [
       "<div>\n",
       "<style scoped>\n",
       "    .dataframe tbody tr th:only-of-type {\n",
       "        vertical-align: middle;\n",
       "    }\n",
       "\n",
       "    .dataframe tbody tr th {\n",
       "        vertical-align: top;\n",
       "    }\n",
       "\n",
       "    .dataframe thead th {\n",
       "        text-align: right;\n",
       "    }\n",
       "</style>\n",
       "<table border=\"1\" class=\"dataframe\">\n",
       "  <thead>\n",
       "    <tr style=\"text-align: right;\">\n",
       "      <th></th>\n",
       "      <th>n</th>\n",
       "      <th>p</th>\n",
       "      <th>test stat</th>\n",
       "      <th>sig</th>\n",
       "    </tr>\n",
       "  </thead>\n",
       "  <tbody>\n",
       "    <tr>\n",
       "      <th>southwest</th>\n",
       "      <td>325.0</td>\n",
       "      <td>6.125298e-23</td>\n",
       "      <td>102.294059</td>\n",
       "      <td>True</td>\n",
       "    </tr>\n",
       "    <tr>\n",
       "      <th>southeast</th>\n",
       "      <td>364.0</td>\n",
       "      <td>4.953297e-15</td>\n",
       "      <td>65.877446</td>\n",
       "      <td>True</td>\n",
       "    </tr>\n",
       "    <tr>\n",
       "      <th>northwest</th>\n",
       "      <td>325.0</td>\n",
       "      <td>5.184209e-24</td>\n",
       "      <td>107.232850</td>\n",
       "      <td>True</td>\n",
       "    </tr>\n",
       "    <tr>\n",
       "      <th>northeast</th>\n",
       "      <td>324.0</td>\n",
       "      <td>1.455431e-19</td>\n",
       "      <td>86.747629</td>\n",
       "      <td>True</td>\n",
       "    </tr>\n",
       "  </tbody>\n",
       "</table>\n",
       "</div>"
      ],
      "text/plain": [
       "               n             p   test stat   sig\n",
       "southwest  325.0  6.125298e-23  102.294059  True\n",
       "southeast  364.0  4.953297e-15   65.877446  True\n",
       "northwest  325.0  5.184209e-24  107.232850  True\n",
       "northeast  324.0  1.455431e-19   86.747629  True"
      ]
     },
     "execution_count": 22,
     "metadata": {},
     "output_type": "execute_result"
    }
   ],
   "source": [
    "### checking sig with pandas \n",
    "norm_results_df['sig'] = norm_results_df['p'] < .05 \n",
    "norm_results_df"
   ]
  },
  {
   "cell_type": "code",
   "execution_count": 23,
   "id": "fe016c12",
   "metadata": {},
   "outputs": [
    {
     "data": {
      "text/plain": [
       "LeveneResult(statistic=5.559966758410606, pvalue=0.0008610590250786703)"
      ]
     },
     "execution_count": 23,
     "metadata": {},
     "output_type": "execute_result"
    }
   ],
   "source": [
    "# with the * operator \n",
    "stats.levene(*groups.values())"
   ]
  },
  {
   "cell_type": "code",
   "execution_count": 24,
   "id": "73f08fdd",
   "metadata": {},
   "outputs": [
    {
     "data": {
      "text/plain": [
       "F_onewayResult(statistic=2.96962669358912, pvalue=0.0308933560705201)"
      ]
     },
     "execution_count": 24,
     "metadata": {},
     "output_type": "execute_result"
    }
   ],
   "source": [
    "# perform the correct hypothesis test\n",
    "# note again the use of the * operator for convenience\n",
    "result = stats.f_oneway( *groups.values())\n",
    "result"
   ]
  },
  {
   "cell_type": "code",
   "execution_count": 25,
   "id": "f5031e02",
   "metadata": {},
   "outputs": [],
   "source": [
    "from statsmodels.stats.multicomp import pairwise_tukeyhsd\n",
    "## save the values as kg_lost and the labels to the Diet\n",
    "values = df['charges']\n",
    "labels = df['region']"
   ]
  },
  {
   "cell_type": "code",
   "execution_count": 26,
   "id": "8002e775",
   "metadata": {},
   "outputs": [
    {
     "data": {
      "text/html": [
       "<table class=\"simpletable\">\n",
       "<caption>Multiple Comparison of Means - Tukey HSD, FWER=0.05</caption>\n",
       "<tr>\n",
       "   <th>group1</th>    <th>group2</th>    <th>meandiff</th>   <th>p-adj</th>    <th>lower</th>     <th>upper</th>   <th>reject</th>\n",
       "</tr>\n",
       "<tr>\n",
       "  <td>northeast</td> <td>northwest</td>  <td>-988.8091</td> <td>0.7245</td> <td>-3428.9343</td> <td>1451.3161</td>  <td>False</td>\n",
       "</tr>\n",
       "<tr>\n",
       "  <td>northeast</td> <td>southeast</td>  <td>1329.0269</td> <td>0.4745</td> <td>-1044.9417</td> <td>3702.9955</td>  <td>False</td>\n",
       "</tr>\n",
       "<tr>\n",
       "  <td>northeast</td> <td>southwest</td> <td>-1059.4471</td> <td>0.6792</td> <td>-3499.5723</td> <td>1380.6781</td>  <td>False</td>\n",
       "</tr>\n",
       "<tr>\n",
       "  <td>northwest</td> <td>southeast</td>  <td>2317.8361</td> <td>0.0583</td>  <td>-54.1994</td>  <td>4689.8716</td>  <td>False</td>\n",
       "</tr>\n",
       "<tr>\n",
       "  <td>northwest</td> <td>southwest</td>   <td>-70.638</td>  <td>0.9999</td> <td>-2508.8826</td> <td>2367.6066</td>  <td>False</td>\n",
       "</tr>\n",
       "<tr>\n",
       "  <td>southeast</td> <td>southwest</td> <td>-2388.4741</td> <td>0.0477</td> <td>-4760.5096</td> <td>-16.4386</td>   <td>True</td> \n",
       "</tr>\n",
       "</table>"
      ],
      "text/plain": [
       "<class 'statsmodels.iolib.table.SimpleTable'>"
      ]
     },
     "execution_count": 26,
     "metadata": {},
     "output_type": "execute_result"
    }
   ],
   "source": [
    "## perform tukey's multiple comparison test and display the summary\n",
    "tukeys_results = pairwise_tukeyhsd(values,labels)\n",
    "tukeys_results.summary()"
   ]
  },
  {
   "cell_type": "markdown",
   "id": "a238982c",
   "metadata": {},
   "source": [
    "We can reject the null hypothesis. There is a significant difference in charges between the southeast and southwest regions."
   ]
  },
  {
   "cell_type": "code",
   "execution_count": 27,
   "id": "bbcc20f0",
   "metadata": {},
   "outputs": [
    {
     "data": {
      "image/png": "[encoded data removed]",
      "text/plain": [
       "<Figure size 640x480 with 1 Axes>"
      ]
     },
     "metadata": {},
     "output_type": "display_data"
    }
   ],
   "source": [
    "sns.barplot(data=df, x='region',y='charges');"
   ]
  },
  {
   "cell_type": "code",
   "execution_count": null,
   "id": "9f013162",
   "metadata": {},
   "outputs": [],
   "source": []
  }
 ],
 "metadata": {
  "kernelspec": {
   "display_name": "Python (dojo-env)",
   "language": "python",
   "name": "dojo-env"
  },
  "language_info": {
   "codemirror_mode": {
    "name": "ipython",
    "version": 3
   },
   "file_extension": ".py",
   "mimetype": "text/x-python",
   "name": "python",
   "nbconvert_exporter": "python",
   "pygments_lexer": "ipython3",
   "version": "3.9.15"
  },
  "toc": {
   "base_numbering": 1,
   "nav_menu": {},
   "number_sections": false,
   "sideBar": true,
   "skip_h1_title": false,
   "title_cell": "Table of Contents",
   "title_sidebar": "Contents",
   "toc_cell": false,
   "toc_position": {},
   "toc_section_display": true,
   "toc_window_display": false
  }
 },
 "nbformat": 4,
 "nbformat_minor": 5
}
